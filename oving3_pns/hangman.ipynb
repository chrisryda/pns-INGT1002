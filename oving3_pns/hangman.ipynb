{
 "cells": [
  {
   "cell_type": "markdown",
   "metadata": {
    "deletable": false,
    "run_control": {
     "frozen": true
    }
   },
   "source": [
    "**Læringsmål:**\n",
    "\n",
    "* Betingelser\n",
    "* While-løkker\n",
    "\n",
    "\n",
    "Kapittel fire introduserer repetisjonsstrukturer. Dette er en mye brukt programmeringsteknikk som brukes når et program skal utføre den samme oppgaven mange ganger etter hverandre. I denne oppgaven bruker vi en enkel while-løkke for å lage et hangman-spill i Python. \n",
    "\n",
    "Lag et program som tar inn et ord (tekststreng) og antall liv (heltall) fra en bruker, og lar en annen (eller samme) bruker gjette på bokstaver i ordet. "
   ]
  },
  {
   "cell_type": "markdown",
   "metadata": {
    "deletable": false,
    "editable": false,
    "run_control": {
     "frozen": true
    }
   },
   "source": [
    "## Oppgave a: frivillig\n",
    "Start med å hente inn data fra bruker. Lagre dette i to variabler \"hemmelig_ord\" og \"antall_liv\".\n",
    "\n",
    "***Skriv koden din her.***"
   ]
  },
  {
   "cell_type": "code",
   "execution_count": 3,
   "metadata": {
    "ExecuteTime": {
     "end_time": "2019-07-03T06:20:10.962975Z",
     "start_time": "2019-07-03T06:20:10.957236Z"
    }
   },
   "outputs": [],
   "source": [
    "secret_word = input(\"Enter the secret word\")\n",
    "n_lives = int(input(\"Enter number of lives\"))"
   ]
  },
  {
   "cell_type": "markdown",
   "metadata": {
    "deletable": false,
    "run_control": {
     "frozen": true
    }
   },
   "source": [
    "## Oppgave b: frivillig\n",
    "Utvid koden over med en funksjon, *hangman(hemmelig_ord, antall_liv)*, som inneholder en while-løkke. Din oppgave er å fylle inn manglende logikk i henhold til kravene under: \n",
    "\n",
    "* Hent inn en bokstav fra bruker\n",
    "* Sjekk om denne er i det hemmelige ordet \n",
    "  * Trekk fra et liv dersom brukeren tipper feil\n",
    " * Hvis brukeren ikke har flere liv skal løkken avsluttes (HINT: bruk \"break\" for å avslutte en løkke) \n",
    "\n",
    "PS: Husk å skrive ut resultatet til brukeren. **Du kan bruke variablene du laget i oppgave a uten å skrive dem på nytt** \n",
    "\n",
    "Eksempel på kjøring av kode:\n",
    "\n",
    "```python\n",
    "Skriv inn det hemmelige ordet: hemmelig\n",
    "Hvor mange forsøk får brukeren? 2\n",
    "Gjett på én bokstav i ordet: f\n",
    "Bokstaven f er ikke i ordet.\n",
    "Du har  1 liv igjen, prøv på nytt.\n",
    "Gjett på én bokstav i ordet: h\n",
    "Stemmer, bokstaven er i ordet\n",
    "Gjett på én bokstav i ordet: e\n",
    "Stemmer, bokstaven er i ordet\n",
    "Gjett på én bokstav i ordet: r\n",
    "Bokstaven r er ikke i ordet.\n",
    "Du har ingen liv igjen.\n",
    "```"
   ]
  },
  {
   "cell_type": "code",
   "execution_count": 8,
   "metadata": {},
   "outputs": [
    {
     "name": "stdout",
     "output_type": "stream",
     "text": [
      "Correct, the secret word contains the character m\n",
      "M****\n",
      "\n",
      "The secret word does not contain the character w\n",
      "You have 4 lives left\n",
      "M****\n",
      "\n",
      "The secret word does not contain the character a\n",
      "You have 3 lives left\n",
      "M****\n",
      "\n",
      "Correct, the secret word contains the character o\n",
      "Mo***\n",
      "\n",
      "The secret word does not contain the character ø\n",
      "You have 2 lives left\n",
      "Mo***\n",
      "\n",
      "Correct, the secret word contains the character l\n",
      "Moll*\n",
      "\n",
      "The secret word does not contain the character e\n",
      "You have 1 lives left\n",
      "Moll*\n",
      "\n",
      "Correct, the secret word contains the character y\n",
      "Molly\n",
      "\n",
      "Congratulations! You've found the secret word\n"
     ]
    }
   ],
   "source": [
    "def hangman(secret_word, n_lives):\n",
    "    correct_guesses = 0\n",
    "    n_chars = len(set(secret_word))\n",
    "    guessed_chars = []\n",
    "    \n",
    "    while True:\n",
    "        guess = input(\"Guess a character: \").lower()\n",
    "        if guess in secret_word.lower():\n",
    "            correct_guesses += 1\n",
    "            guessed_chars.append(guess)\n",
    "            print(f\"Correct, the secret word contains the character {guess}\")\n",
    "        else:\n",
    "            n_lives -= 1\n",
    "            print(f\"The secret word does not contain the character {guess}\")\n",
    "            print(f\"You have {n_lives} lives left\")\n",
    "            \n",
    "        print_str = \"\"\n",
    "        for c in secret_word:\n",
    "            if c.lower() in guessed_chars:\n",
    "                print_str += c\n",
    "            else:\n",
    "                print_str += \"*\"\n",
    "        print(print_str + \"\\n\")\n",
    "        \n",
    "        if n_lives == 0:\n",
    "                break\n",
    "        if correct_guesses == n_chars:\n",
    "                print(\"Congratulations! You've found the secret word\")\n",
    "                break\n",
    "\n",
    "hangman(\"Molly\", 5)"
   ]
  },
  {
   "cell_type": "markdown",
   "metadata": {
    "deletable": false,
    "run_control": {
     "frozen": true
    }
   },
   "source": [
    "## Oppgave c: frivillig\n",
    "**FRIVILLIG vanskeligere oppgave**: Fyll inn logikk for å fullføre spillet. Ting som kan implementeres er:\n",
    "\n",
    "* Avslutt løkken hvis brukeren har gjettet alle bokstavene i løsningsordet.\n",
    "* For hvert gjett, print ut maskert løsningsord med stjerner for hver bokstav som fortsatt ikke er gjettet. `(Eks.: lø*ning*ord)`\n",
    "\n",
    "Du kan fortsette i samme kodefelt som oppgave b."
   ]
  },
  {
   "cell_type": "markdown",
   "metadata": {},
   "source": []
  }
 ],
 "metadata": {
  "celltoolbar": "Edit Metadata",
  "kernelspec": {
   "display_name": "Python 3",
   "language": "python",
   "name": "python3"
  },
  "language_info": {
   "codemirror_mode": {
    "name": "ipython",
    "version": 3
   },
   "file_extension": ".py",
   "mimetype": "text/x-python",
   "name": "python",
   "nbconvert_exporter": "python",
   "pygments_lexer": "ipython3",
   "version": "3.11.3"
  },
  "toc": {
   "base_numbering": 1,
   "nav_menu": {},
   "number_sections": false,
   "sideBar": true,
   "skip_h1_title": false,
   "title_cell": "Table of Contents",
   "title_sidebar": "Contents",
   "toc_cell": false,
   "toc_position": {},
   "toc_section_display": true,
   "toc_window_display": false
  }
 },
 "nbformat": 4,
 "nbformat_minor": 2
}
