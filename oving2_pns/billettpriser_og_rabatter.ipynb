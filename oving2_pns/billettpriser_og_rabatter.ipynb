{
 "cells": [
  {
   "cell_type": "markdown",
   "metadata": {},
   "source": [
    "# Billettpriser og rabatter\n",
    "\n",
    "**Læringsmål:**\n",
    "\n",
    "* Betingelser\n",
    "\n",
    "I denne oppgaven skal du bruke betingelser (if-elif-else) til å bestemme billettprisen til en bruker basert på input fra brukeren. \n",
    "\n",
    "Transportselskapet «TravelevatoR» tilbyr reiser fra Trondheim til Pythonville. Ved bestilling minst 14 dager før man skal reise, kan man få minipris 199. Normal billett koster 440. "
   ]
  },
  {
   "cell_type": "markdown",
   "metadata": {
    "deletable": false,
    "editable": false,
    "run_control": {
     "frozen": true
    }
   },
   "source": [
    "## Oppgave a: frivillig"
   ]
  },
  {
   "cell_type": "markdown",
   "metadata": {
    "deletable": false,
    "run_control": {
     "frozen": true
    }
   },
   "source": [
    "Skriv en funskjon med to mulige oppførsler som vist under:\n",
    "\n",
    "  \n",
    "```python\n",
    ">>>billettpris(15)\n",
    "  \n",
    "Du kan få minipris: 199,-  \n",
    "```\n",
    "\n",
    "```python\n",
    ">>>billettpris(10)\n",
    "\n",
    "Minipris ikke lenger tilgjengelig, du må betale fullpris: 440,-  \n",
    "```\n",
    "***Skriv koden din under***"
   ]
  },
  {
   "cell_type": "code",
   "execution_count": 5,
   "metadata": {
    "ExecuteTime": {
     "end_time": "2019-07-02T08:22:50.607851Z",
     "start_time": "2019-07-02T08:22:50.600802Z"
    }
   },
   "outputs": [
    {
     "name": "stdout",
     "output_type": "stream",
     "text": [
      "Du kan få minipris: 199,-\n"
     ]
    }
   ],
   "source": [
    "def ticket_price(day):\n",
    "    if day >= 14:\n",
    "        print(\"Du kan få minipris: 199,-\")\n",
    "    else:\n",
    "        print(\"Minipris ikke lengre tilgjengelig, du må betale fullpris: 440,-\")\n",
    "\n",
    "ticket_price(14)"
   ]
  },
  {
   "cell_type": "markdown",
   "metadata": {
    "deletable": false,
    "editable": false,
    "run_control": {
     "frozen": true
    }
   },
   "source": [
    "## Oppgave b: frivillig"
   ]
  },
  {
   "cell_type": "markdown",
   "metadata": {
    "deletable": false,
    "run_control": {
     "frozen": true
    }
   },
   "source": [
    "Det hender av og til at kunder ikke ønsker minipris, men heller vil ha fullprisbillett. Dette fordi minipris ikke kan refunderes / endres. Utvid derfor funksjonen så kunder kan legge til informasjon om de ønsker minipris – men kun der det er relevant. To eksempel på kjøring etter utvidelsen:\n",
    "\n",
    "  \n",
    "```python\n",
    ">>>billetpris(15, 'J')\n",
    "\n",
    "Du kan få minipris og ønsker dette, billettpris: 199,-\n",
    "```\n",
    "  \n",
    "```python\n",
    ">>>billetpris(15, 'N')\n",
    "\n",
    "Du kan få minipris, men ønsker ikke det. Da tilbyr vi fullpris: 440,-\n",
    "```\n",
    "\n",
    "***Skriv koden din under***"
   ]
  },
  {
   "cell_type": "code",
   "execution_count": 7,
   "metadata": {},
   "outputs": [
    {
     "name": "stdout",
     "output_type": "stream",
     "text": [
      "Du kan få minipris og ønsker dette, billettpris: 199,-\n"
     ]
    }
   ],
   "source": [
    "def ticket_price(day, refund):\n",
    "    if day >= 14 and refund == \"J\":\n",
    "        print(\"Du kan få minipris og ønsker dette, billettpris: 199,-\")\n",
    "    elif day >= 14 and refund == \"N\":\n",
    "        print(\"Du kan få minipris, men ønsker ikke det. Da tilbyr vi fullpris: 440,-\")\n",
    "    else:\n",
    "        print(\"Minipris ikke lengre tilgjengelig, du må betale fullpris: 440,-\")\n",
    "\n",
    "ticket_price(14, \"J\")"
   ]
  },
  {
   "cell_type": "markdown",
   "metadata": {
    "deletable": false,
    "editable": false,
    "run_control": {
     "frozen": true
    }
   },
   "source": [
    "## Oppgave c: frivillig"
   ]
  },
  {
   "cell_type": "markdown",
   "metadata": {
    "deletable": false,
    "run_control": {
     "frozen": true
    }
   },
   "source": [
    "Det blir besluttet at barn under 16 gis 50% rabatt. Senior (60+), militær i uniform, og student gis 25% rabatt. Om man f.eks. både er 60+ og militær / student, får man likevel bare 25% rabatt. Alle disse rabattene gjelder kun i forhold til fullpris, for minipris gis ingen rabatter. Endre funksjonen så kunder må gi informasjon om alder, evt. også om student / militær, og regner ut riktig pris.\n",
    "\n",
    "Eksempel på kjøring av koden:\n",
    "\n",
    "  \n",
    "```python\n",
    ">>>billettpris(15, 'J', 'militær')\n",
    "\n",
    "Du kan få minipris og ønsker dette, billettpris: 199,-\n",
    "```\n",
    "\n",
    "```python\n",
    ">>>billettpris(15, 'N', 'militær')\n",
    "\n",
    "Du kan få minipris, men ønsker ikke det. Du får rabatt grunnet at du er militær - billettpris: 330,-\n",
    "```\n",
    "\n",
    "```python\n",
    ">>>billettpris(10, 'N', 'barn')\n",
    "\n",
    "Du kan ikke få minipris. Du får rabatt grunnet at du er barn - billettpris: 220,-\n",
    "```"
   ]
  },
  {
   "cell_type": "code",
   "execution_count": 10,
   "metadata": {},
   "outputs": [
    {
     "name": "stdout",
     "output_type": "stream",
     "text": [
      "Du kan ikke få minipris. Du får rabatt grunnet du er barn - billettpris: 220,-\n"
     ]
    }
   ],
   "source": [
    "def ticket_price(day, refund, status):\n",
    "    if day >= 14 and refund == \"J\":\n",
    "        print(\"Du kan få minipris og ønsker dette, billettpris: 199,-\")\n",
    "    \n",
    "    elif day >= 14 and refund == \"N\":\n",
    "        if status == \"militær\" or status == \"senior\":\n",
    "            print(f\"Du kan få minipris, men ønsker ikke det. Du får rabatt grunnet du er {status} - billettpris: 330,-\")\n",
    "        elif status == \"barn\":\n",
    "            print(f\"Du kan få minipris, men ønsker ikke det. Du får rabatt grunnet du er {status} - billettpris: 220,-\")\n",
    "        else:\n",
    "            print(\"Du kan få minipris, men ønsker ikke det. Da tilbyr vi fullpris: 440,-\")\n",
    "    \n",
    "    else:\n",
    "        if status == \"militær\" or status == \"senior\":\n",
    "            print(f\"Du kan ikke få minipris. Du får rabatt grunnet du er {status} - billettpris: 330,-\")\n",
    "        elif status == \"barn\":\n",
    "            print(f\"Du kan ikke få minipris. Du får rabatt grunnet du er {status} - billettpris: 220,-\")\n",
    "        else:\n",
    "            print(\"Du kan ikke få minipris. Da tilbyr vi fullpris: 440,-\")\n",
    "\n",
    "ticket_price(10, \"N\", \"barn\")"
   ]
  },
  {
   "cell_type": "markdown",
   "metadata": {
    "deletable": false,
    "editable": false,
    "run_control": {
     "frozen": true
    }
   },
   "source": [
    "## Oppgave d: frivillig"
   ]
  },
  {
   "cell_type": "markdown",
   "metadata": {
    "deletable": false,
    "run_control": {
     "frozen": true
    }
   },
   "source": [
    "Du får godkjent oppgaven om du bare har klart a, b og delvis c, men prøv gjerne på denne litt vanskeligere d også.\n",
    "\n",
    "Etter lobbyvirksomhet fra studentorganisasjoner endres reglene på følgende måte: Studenter får også litt rabatt på miniprisbilletter (10%),  samt at personer som både er studenter og militære  / 60+, eller studenter og barn, får to rabatter, og dermed bare betaler 0,75 * 0,75 eller 0.75 * 0.5 av fullpris. Merk at personer som er 60+ og militære, men ikke studenter, eller barn og militære, men ikke studenter, ikke får noen slik multiplisert rabatt, de må fortsatt nøye seg med den ene rabatten de hadde før, og de vanlige 199 for minipris. Endre funksjonen så den fungerer korrekt gitt de nye reglene."
   ]
  },
  {
   "cell_type": "code",
   "execution_count": 5,
   "metadata": {},
   "outputs": [
    {
     "name": "stdout",
     "output_type": "stream",
     "text": [
      "Du kan ikke få minipris. Du får rabatt grunnet du er barn og student - billettpris: 165.0,-\n"
     ]
    }
   ],
   "source": [
    "def ticket_price(day, refund, status, student):\n",
    "    minipris = 199\n",
    "    fullpris = 440\n",
    "\n",
    "    if day >= 14 and refund == \"J\":\n",
    "        if student == \"J\":\n",
    "            print(f\"Du kan få minipris, er student og ønsker dette, billettpris: {minipris*0.9},-\")\n",
    "        else:\n",
    "            print(f\"Du kan få minipris og ønsker dette, billettpris: {minipris},-\")\n",
    "    \n",
    "    elif day >= 14 and refund == \"N\":\n",
    "        if status == \"militær\" or status == \"senior\":\n",
    "            if student == \"J\":\n",
    "                print(f\"Du kan få minipris, men ønsker ikke det. Du får rabatt grunnet du er {status} og student - billettpris: {fullpris*0.75*0.75},-\")\n",
    "            else:\n",
    "                print(f\"Du kan få minipris, men ønsker ikke det. Du får rabatt grunnet du er {status} - billettpris: {fullpris*0.75},-\")\n",
    "        \n",
    "        elif status == \"barn\":\n",
    "            if student == \"J\":\n",
    "                print(f\"Du kan få minipris, men ønsker ikke det. Du får rabatt grunnet du er {status} og student - billettpris: {fullpris*0.75*0.5},-\")\n",
    "            else:\n",
    "                print(f\"Du kan få minipris, men ønsker ikke det. Du får rabatt grunnet du er {status} - billettpris: {fullpris*0.5},-\")\n",
    "        else:\n",
    "            print(\"Du kan få minipris, men ønsker ikke det. Da tilbyr vi fullpris: 440,-\")\n",
    "    else:\n",
    "        if status == \"militær\" or status == \"senior\":\n",
    "            if student == \"J\":\n",
    "                print(f\"Du kan ikke få minipris. Du får rabatt grunnet du er {status} og student - billettpris: {fullpris*0.75*0.75},-\")\n",
    "            else:\n",
    "                print(f\"Du kan ikke få minipris. Du får rabatt grunnet du er {status} - billettpris: {fullpris*0.75},-\")\n",
    "        elif status == \"barn\":\n",
    "            if student == \"J\":\n",
    "                print(f\"Du kan ikke få minipris. Du får rabatt grunnet du er {status} og student - billettpris: {fullpris*0.75*0.5},-\")\n",
    "            else:\n",
    "                print(f\"Du kan ikke få minipris. Du får rabatt grunnet du er {status} - billettpris: {fullpris*0.5},-\")\n",
    "        else:\n",
    "            print(\"Du kan ikke få minipris. Da tilbyr vi fullpris: 440,-\")\n",
    "\n",
    "ticket_price(10, \"N\", \"barn\", \"J\")"
   ]
  }
 ],
 "metadata": {
  "celltoolbar": "Edit Metadata",
  "kernelspec": {
   "display_name": "Python 3",
   "language": "python",
   "name": "python3"
  },
  "language_info": {
   "codemirror_mode": {
    "name": "ipython",
    "version": 3
   },
   "file_extension": ".py",
   "mimetype": "text/x-python",
   "name": "python",
   "nbconvert_exporter": "python",
   "pygments_lexer": "ipython3",
   "version": "3.11.3"
  },
  "toc": {
   "base_numbering": 1,
   "nav_menu": {},
   "number_sections": false,
   "sideBar": true,
   "skip_h1_title": false,
   "title_cell": "Table of Contents",
   "title_sidebar": "Contents",
   "toc_cell": false,
   "toc_position": {},
   "toc_section_display": true,
   "toc_window_display": false
  }
 },
 "nbformat": 4,
 "nbformat_minor": 2
}
