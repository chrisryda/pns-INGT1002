{
 "cells": [
  {
   "cell_type": "markdown",
   "id": "a380d922",
   "metadata": {
    "tags": []
   },
   "source": [
    "# Oppgave 4: Skrått Kast\n",
    "\n",
    "Vi vil lage et program som kan løse ligninger i 1 variabel for oss.\n",
    "Vi ser eksempelvis på en ligning som oppstår når man vil finne ut hvilken vinkel man må skyte et prosjektil som har fast utgangshastighet med for å treffe en blink.\n",
    "\n",
    "## Skrått kast\n",
    "\n",
    "Vi har en kanon som står $7,00$ m over bakken. Kanonen skyter prosjektil med utgangshastighet $15,0$ m/s.\n",
    "Vi ønsker å treffe en blink som ligger på bakken 28 meter unna. Hvilken utgangsvinkel må vi stille kanonen inn på?\n",
    "\n",
    "### 2D-kinematikk\n",
    "Dersom dere har gått forkurset, eller tatt F2 på videregående kjenner dere nok til \n",
    "hvordan man regner på bevegelse i 2 dimensjoner. Hvis ikke er ikke detaljene her så farlig - dere vil løse\n",
    "liknende problemer et par uker inn i fysikken etter jul :)\n",
    "\n",
    "For et såkalt skrått kast som problemet over beskriver, kan man se på x- og y- posisjonen til prosjektilet\n",
    "uavhengig av hverandre:\n",
    "$$\n",
    "\\begin{align}\n",
    "x(t) &= v_0\\cos{\\theta}\\cdot t \\\\\n",
    "y(t) &= v_0\\sin{\\theta}\\cdot t-\\frac{1}{2}gt^2\n",
    "\\end{align}\n",
    "$$\n",
    "Her er $x(t)$ og $y(t)$ x- og y-posisjonen ved tiden $t$, $v_0$ er den faste utgangsfarten og $g$ er tyngdeakselerasjonen.\n",
    "\n",
    "Vi vet at på et eller annet tidpunkt $t$, så må prosjektilet treffe blinken - den må innom $(x_b,y_b)= (-7,28)$.\n",
    "Vi vet ikke når dette skjer (når prosjektilet lander), eller hvilken utgangvinkel vi trenger. Vi får da to ligninger med disse to ukjente:\n",
    "\n",
    "$$\n",
    "\\begin{align}\n",
    "x_b &= v_0\\cos{\\theta}\\cdot t \\\\\n",
    "y_b &= v_0\\sin{\\theta}\\cdot t-\\frac{1}{2}gt^2\n",
    "\\end{align}\n",
    "$$\n",
    "Her kan vi for eksempel løse den første ligningen for tiden $t$ og sette dette inn i ligning 2, og vi får etter\n",
    "litt massasje:\n",
    "$$\n",
    "y_b = x_b\\tan{\\theta}-\\frac{1}{2}g\\left(\\frac{x_b}{v_0\\cos{\\theta}}\\right)^2\n",
    "$$\n",
    "Her er\n",
    "$$\n",
    "\\begin{align}\n",
    "y_b&= -7,00\\ \\text{m} \\\\\n",
    "v_0 &= 15\\ \\text{m/s} \\\\\n",
    "x_b &= 28,0\\ \\text{m}\n",
    "\\end{align}\n",
    "$$\n",
    "Siste steg er å løse følgende liking for $\\theta$\n",
    "$$\n",
    "-7 = 28\\tan{\\theta}-4.905\\left(\\frac{28}{15\\cos{\\theta}}\\right)^2\n",
    "$$\n",
    "\n",
    "Denne likningen er ikke så lett å løse, selv om vi kan leke litt med figuren under og se at den *har* 2 løsninger. Det er ikke så lett å disse løsningene analytisk, men ligningen er en god kandidat til å løses *numerisk*. Andre likninger kan det være *umulig* å finne en analytisk løsning til, feks $x+\\sin{x} = 1$\n",
    "\n"
   ]
  },
  {
   "cell_type": "code",
   "execution_count": null,
   "id": "170ac928",
   "metadata": {
    "hide_input": false
   },
   "outputs": [],
   "source": [
    "%%html\n",
    "<iframe src=\"https://folk.ntnu.no/jonajh/jsx/kast.html\" height=800 width=800></iframe> "
   ]
  },
  {
   "cell_type": "markdown",
   "id": "07f78ce2",
   "metadata": {},
   "source": [
    "## Grafisk løsning\n",
    "\n",
    "Når man støter på en likning man ikke får helt til å løse, kan man prøve å løse den grafisk. Gitt at ligningen er skrevet om til formen $f(x) = 0$, så vil løsningen(e) være gitt av x-koordinaten til punktet der kurven til $f(x)$ krysser x-aksen. \n",
    "\n",
    "For a finne vinkelen vi må stille inn kanonen vår på, blir oppgaven altså å finne roten til funksjonen\n",
    "$$\n",
    "f(\\theta) =  x_b\\tan{\\theta}-\\frac{1}{2}g\\left(\\frac{x_b}{v_0\\cos{\\theta}}\\right)^2-y_b\n",
    "$$\n",
    "\n",
    "### Oppgave a)\n",
    "Lag denne funksjonen i python som `def f(thet):`, og plot den i en figur som viser kurven til $f(\\theta)$ i intervallet $15^{\\circ} \\leq \\theta \\leq 60^{\\circ}$.\n",
    "\n",
    "*PS: Ved riktig utførelse av oppgaven skal kurven se noe [slik](Figurer/oppg4a_lf.png) ut. Husk å ta høyde for konvertering mellom grader og radianer*"
   ]
  },
  {
   "cell_type": "code",
   "execution_count": null,
   "id": "826f2b9b-526b-4e12-bacc-12b583585846",
   "metadata": {
    "deletable": false,
    "nbgrader": {
     "cell_type": "code",
     "checksum": "6b4536568505ec7159eb1f5777799349",
     "grade": false,
     "grade_id": "cell-2472f9052f54dd1c",
     "locked": false,
     "schema_version": 3,
     "solution": true,
     "task": false
    },
    "tags": []
   },
   "outputs": [],
   "source": [
    "import numpy as np\n",
    "import matplotlib.pyplot as plt\n",
    "\n",
    "# Parametre\n",
    "y_bakke = -7  # Høydeforskjell mellom kanonstilling og blink\n",
    "g = 9.81      # Tyngdekraftskonstant\n",
    "x_lengde = 28 # Horisontal distanse til blink \n",
    "v0 = 15       # Starthastighet\n",
    "\n",
    "\n",
    "def f(thet):\n",
    "    #-------------------------------------\n",
    "    # SKRIV DIN KODE HER:\n",
    "    #-------------------------------------\n",
    "    \n",
    "#-------------------------------------\n",
    "# SKRIV DIN KODE HER:\n",
    "#-------------------------------------"
   ]
  },
  {
   "cell_type": "code",
   "execution_count": null,
   "id": "4a148aa8-e26c-42ec-b762-0a639470e14d",
   "metadata": {
    "deletable": false,
    "editable": false,
    "nbgrader": {
     "cell_type": "code",
     "checksum": "f6a1adad8bda868992137dd69a6a7207",
     "grade": true,
     "grade_id": "cell-0bbb659b0e348a6b",
     "locked": true,
     "points": 5,
     "schema_version": 3,
     "solution": false,
     "task": false
    },
    "tags": []
   },
   "outputs": [],
   "source": [
    "# Kodecellen brukes under retting. La så!"
   ]
  },
  {
   "cell_type": "markdown",
   "id": "28cecb61-0cd2-4811-bf51-92a3e77fea7c",
   "metadata": {},
   "source": [
    "Hvor (sånn ca.) vil du si nullpunktene til funksjonen $f(\\theta)$ ligger? Fyll inn omtrentlige tallsvar ved å se på grafen (feilmargin $\\pm 5^{\\circ}$)."
   ]
  },
  {
   "cell_type": "code",
   "execution_count": null,
   "id": "1716c95d-b8d7-4783-84eb-dfed4072e54c",
   "metadata": {},
   "outputs": [],
   "source": [
    "theta_1 = ?\n",
    "theta_2 = ?"
   ]
  },
  {
   "cell_type": "code",
   "execution_count": null,
   "id": "cfbd5654-9cbe-49d6-8b7a-c37cbe18a03e",
   "metadata": {
    "deletable": false,
    "editable": false,
    "nbgrader": {
     "cell_type": "code",
     "checksum": "12493b2a1a8cddbcb59c3cfe1dd8f9ce",
     "grade": true,
     "grade_id": "cell-fba8c116d17a037d",
     "locked": true,
     "points": 5,
     "schema_version": 3,
     "solution": false,
     "task": false
    },
    "tags": []
   },
   "outputs": [],
   "source": [
    "print(f\"Jeg har funnet ett nullpunkt i nærheten av {theta_1} grader, og et annet nullpunkt i nærheten av {theta_2} grader.\")"
   ]
  },
  {
   "cell_type": "markdown",
   "id": "354bdd9c",
   "metadata": {},
   "source": [
    "## Newton's metode.\n",
    "\n",
    "Vi skal nå bruke Newton's metdoe til å finne ligningens løsninger med større nøyaktighet.\n",
    "\n",
    "I Newton's metode bruker vi den deriverte til å finne en tilnærming til hvor nullpunktet til funksjonen er. Funksjonen vi skal finne nullpunktene til er: Iddeen er at man kan følge funksjonens tangent til den passerer $0$. \n",
    "Dersom man bruker reglende for derivasjon kan man finne at funksjonen\n",
    "$$\n",
    "F(\\theta) =   x_b\\tan{\\theta}-\\frac{1}{2}g\\left(\\frac{x_b}{v_0\\cos{\\theta}}\\right)^2 - y_b\n",
    "$$\n",
    "\n",
    "har en derivert gitt ved:\n",
    "\n",
    "$$\n",
    "F'(\\theta) =\\frac{x_b}{\\cos^2{\\theta}}-g\\sin(\\theta) \\left( \\frac{x_b}{v_0} \\right)^2 \\cos^{-3}(\\theta) \n",
    "$$\n",
    "\n",
    "\n",
    "\n",
    "\n",
    "For å beregne tangenten til funksjonen trenger vi den deriverte \n",
    "\n",
    "\n",
    "Nedenfor ser vi hvordan dette fungerer for en iterasjon."
   ]
  },
  {
   "cell_type": "markdown",
   "id": "01712e8b",
   "metadata": {},
   "source": [
    "### Oppgave b)\n",
    "\n",
    "Vi har nå undersøkt kurven til figuren, og vet sånn ca. hvor løsningene må være. Bruk Newtons metode for å regne ut mer presise løsninger for ligningen $F(\\theta) = 0$. Du må her bruke to ulike startverdier, som vil konvergere mot hvert sitt nullpunkt. Pass på å lagre resultatet til variablene `theta_1` og `theta_2`. Løsningen skal oppgis i grader med to desimalers nøyaktighet.\n",
    "\n",
    "*Tips: Bruk kurven fra deloppgave a til å kontrollere løsningen*"
   ]
  },
  {
   "cell_type": "code",
   "execution_count": null,
   "id": "5509d4be-4cfe-4c07-8fda-4d152a804b49",
   "metadata": {
    "deletable": false,
    "nbgrader": {
     "cell_type": "code",
     "checksum": "9048f626cc97e326fd2a18431d2f6573",
     "grade": false,
     "grade_id": "cell-a6e59396374d9016",
     "locked": false,
     "schema_version": 3,
     "solution": true,
     "task": false
    },
    "tags": []
   },
   "outputs": [],
   "source": [
    "import numpy as np\n",
    "import matplotlib.pyplot as plt\n",
    "%matplotlib ipympl\n",
    "\n",
    "# Parametre\n",
    "y_bakke = -7  # Høydeforskjell mellom kanonstilling og blink\n",
    "g = 9.81      # Tyngdekraftskonstant\n",
    "x_lengde = 28 # Horisontal distanse til blink \n",
    "v0 = 15       # Starthastighet\n",
    "\n",
    "# Funksjonen f(theta) fra oppgave a)\n",
    "def f(thet):\n",
    "    #-------------------------------------\n",
    "    # SKRIV DIN KODE HER:\n",
    "    #-------------------------------------\n",
    "    \n",
    "# Den deriverte til funksjonen f(theta)\n",
    "def df(theta):\n",
    "    #-------------------------------------\n",
    "    # SKRIV DIN KODE HER:\n",
    "    #-------------------------------------\n",
    "\n",
    "# Bruk funksjoene f(theta) og df(theta) til å utføre newtons metode for to startpunkt\n",
    "#-------------------------------------\n",
    "# SKRIV DIN KODE HER:\n",
    "#-------------------------------------\n"
   ]
  },
  {
   "cell_type": "markdown",
   "id": "dbba9959",
   "metadata": {},
   "source": [
    "Kjør kodecellen nedenfor for å skrive ut løsningene:"
   ]
  },
  {
   "cell_type": "code",
   "execution_count": null,
   "id": "326c0867",
   "metadata": {
    "deletable": false,
    "editable": false,
    "nbgrader": {
     "cell_type": "code",
     "checksum": "e1a39cde0a12a0bf8db3e135f6274c6b",
     "grade": true,
     "grade_id": "cell-1c8b037bb13f2746",
     "locked": true,
     "points": 10,
     "schema_version": 3,
     "solution": false,
     "task": false
    },
    "tags": []
   },
   "outputs": [],
   "source": [
    "print(f\"Vi treffer blink dersom utgangsvinkelen er {theta_1} grader eller {theta_2} grader.\")"
   ]
  }
 ],
 "metadata": {
  "kernelspec": {
   "display_name": "Python 3 (ipykernel)",
   "language": "python",
   "name": "python3"
  },
  "language_info": {
   "codemirror_mode": {
    "name": "ipython",
    "version": 3
   },
   "file_extension": ".py",
   "mimetype": "text/x-python",
   "name": "python",
   "nbconvert_exporter": "python",
   "pygments_lexer": "ipython3",
   "version": "3.10.8"
  }
 },
 "nbformat": 4,
 "nbformat_minor": 5
}
